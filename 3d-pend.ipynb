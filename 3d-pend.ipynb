{
 "cells": [
  {
   "cell_type": "code",
   "execution_count": 12,
   "metadata": {},
   "outputs": [
    {
     "data": {
      "text/latex": [
       "$M g + M \\frac{d^{2}}{d t^{2}} \\operatorname{z_{1}}{\\left(t \\right)} + g m + m \\left(- r \\sin{\\left(\\psi{\\left(t \\right)} \\right)} \\left(\\frac{d}{d t} \\psi{\\left(t \\right)}\\right)^{2} + r \\cos{\\left(\\psi{\\left(t \\right)} \\right)} \\frac{d^{2}}{d t^{2}} \\psi{\\left(t \\right)} + \\frac{d^{2}}{d t^{2}} \\operatorname{z_{1}}{\\left(t \\right)}\\right)$"
      ],
      "text/plain": [
       "          2                  ⎛                        2                 2     \n",
       "         d                   ⎜              ⎛d       ⎞                 d      \n",
       "M⋅g + M⋅───(z₁(t)) + g⋅m + m⋅⎜- r⋅sin(ψ(t))⋅⎜──(ψ(t))⎟  + r⋅cos(ψ(t))⋅───(ψ(t)\n",
       "          2                  ⎜              ⎝dt      ⎠                  2     \n",
       "        dt                   ⎝                                        dt      \n",
       "\n",
       "      2       ⎞\n",
       "     d        ⎟\n",
       ") + ───(z₁(t))⎟\n",
       "      2       ⎟\n",
       "    dt        ⎠"
      ]
     },
     "metadata": {},
     "output_type": "display_data"
    }
   ],
   "source": [
    "using SymPy\n",
    "# time\n",
    "@vars t\n",
    "# define parameteric state variables\n",
    "# 10D state\n",
    "x1, y1, z1, theta, psi = symbols(\"x1 y1 z1 theta psi\", cls=sympy.Function)\n",
    "x1, y1, z1, theta, psi = x1(t), y1(t), z1(t), theta(t), psi(t)\n",
    "dx1, dy1, dz1, dtheta, dpsi = diff(x1, t), diff(y1, t), diff(z1, t), diff(theta, t), diff(psi, t)\n",
    "# static parts of eqn\n",
    "@vars M m g r\n",
    "\n",
    "# build eqn constraints\n",
    "x2 = r * (dtheta * cos(theta) * cos(psi) - dpsi * sin(theta) * sin(psi)) + dx1  #TODO: could this all be easier in spherical coordinates?\n",
    "y2 = r * (dtheta * cos(theta) * sin(psi) + dpsi * sin(theta) * cos(psi)) + dy1 \n",
    "z2 = r * sin(psi) + z1 \n",
    "dx2 = diff(x2, t)  \n",
    "dy2 = diff(y2, t) \n",
    "dz2 = diff(z2, t) \n",
    "\n",
    "# build lagrangian\n",
    "PE = (M * g * z1) + (m * g * (z1 + r * cos(theta))) \n",
    "v1 = sqrt(dx1^2 + dy1^2 + dz1^2) \n",
    "v2 = sqrt(dx2^2 + dy2^2 + dz2^2) \n",
    "KE = Rational(1, 2) * M * v1^2 + Rational(1, 2) * m * v2^2 \n",
    "L = KE - PE |> simplify\n",
    "\n",
    "# L differentiated wrt acceleration of system\n",
    "dL_dtheta_dt = diff(diff(L, dtheta), t)       \n",
    "dL_dpsi_dt = diff(diff(L, dpsi), t)       \n",
    "dL_dx1_dt = diff(diff(L, dx1), t)        \n",
    "dL_dy1_dt = diff(diff(L, dy1), t)        \n",
    "dL_dz1_dt = diff(diff(L, dz1), t)        \n",
    "\n",
    "# L differentiated wrt to state of system\n",
    "dL_theta = diff(L, theta)  \n",
    "dL_psi = diff(L, psi)      \n",
    "dL_x1 = diff(L, x1)        \n",
    "dL_y1 = diff(L, y1)        \n",
    "dL_z1 = diff(L, z1)        \n",
    "\n",
    "\n",
    "Qi_theta = simplify(dL_dtheta_dt - dL_theta) \n",
    "Qi_psi = simplify(dL_dpsi_dt - dL_psi)       \n",
    "Qi_x1 = simplify(dL_dx1_dt - dL_x1)          \n",
    "Qi_y1 = simplify(dL_dy1_dt - dL_y1)          \n",
    "Qi_z1 = simplify(dL_dz1_dt - dL_z1)          \n"
   ]
  },
  {
   "cell_type": "code",
   "execution_count": 19,
   "metadata": {},
   "outputs": [
    {
     "data": {
      "text/latex": [
       "$\\left[ \\begin{array}{r}m r \\left(- g \\sin{\\left(\\theta{\\left(t \\right)} \\right)} - \\frac{r \\sin{\\left(2 \\theta{\\left(t \\right)} \\right)} \\left(\\frac{d}{d t} \\psi{\\left(t \\right)}\\right)^{4}}{2} - r \\sin{\\left(2 \\theta{\\left(t \\right)} \\right)} \\left(\\frac{d}{d t} \\psi{\\left(t \\right)}\\right)^{2} \\left(\\frac{d}{d t} \\theta{\\left(t \\right)}\\right)^{2} + r \\sin{\\left(2 \\theta{\\left(t \\right)} \\right)} \\frac{d}{d t} \\psi{\\left(t \\right)} \\frac{d^{3}}{d t^{3}} \\psi{\\left(t \\right)} + \\frac{r \\sin{\\left(2 \\theta{\\left(t \\right)} \\right)} \\left(\\frac{d^{2}}{d t^{2}} \\psi{\\left(t \\right)}\\right)^{2}}{2} + \\frac{3 r \\sin{\\left(2 \\theta{\\left(t \\right)} \\right)} \\left(\\frac{d}{d t} \\theta{\\left(t \\right)}\\right)^{4}}{2} - r \\sin{\\left(2 \\theta{\\left(t \\right)} \\right)} \\frac{d}{d t} \\theta{\\left(t \\right)} \\frac{d^{3}}{d t^{3}} \\theta{\\left(t \\right)} - \\frac{r \\sin{\\left(2 \\theta{\\left(t \\right)} \\right)} \\left(\\frac{d^{2}}{d t^{2}} \\theta{\\left(t \\right)}\\right)^{2}}{2} + 2 r \\cos{\\left(2 \\theta{\\left(t \\right)} \\right)} \\left(\\frac{d}{d t} \\psi{\\left(t \\right)}\\right)^{2} \\frac{d^{2}}{d t^{2}} \\theta{\\left(t \\right)} + 2 r \\cos{\\left(2 \\theta{\\left(t \\right)} \\right)} \\frac{d}{d t} \\psi{\\left(t \\right)} \\frac{d^{2}}{d t^{2}} \\psi{\\left(t \\right)} \\frac{d}{d t} \\theta{\\left(t \\right)} - 4 r \\cos{\\left(2 \\theta{\\left(t \\right)} \\right)} \\left(\\frac{d}{d t} \\theta{\\left(t \\right)}\\right)^{2} \\frac{d^{2}}{d t^{2}} \\theta{\\left(t \\right)} + 3 r \\left(\\frac{d}{d t} \\psi{\\left(t \\right)}\\right)^{2} \\frac{d^{2}}{d t^{2}} \\theta{\\left(t \\right)} + 6 r \\frac{d}{d t} \\psi{\\left(t \\right)} \\frac{d^{2}}{d t^{2}} \\psi{\\left(t \\right)} \\frac{d}{d t} \\theta{\\left(t \\right)} + 3 r \\left(\\frac{d}{d t} \\theta{\\left(t \\right)}\\right)^{2} \\frac{d^{2}}{d t^{2}} \\theta{\\left(t \\right)} - \\frac{\\sin{\\left(\\psi{\\left(t \\right)} - \\theta{\\left(t \\right)} \\right)} \\left(\\frac{d}{d t} \\psi{\\left(t \\right)}\\right)^{2} \\frac{d^{2}}{d t^{2}} \\operatorname{y_{1}}{\\left(t \\right)}}{2} + \\sin{\\left(\\psi{\\left(t \\right)} - \\theta{\\left(t \\right)} \\right)} \\frac{d}{d t} \\psi{\\left(t \\right)} \\frac{d}{d t} \\theta{\\left(t \\right)} \\frac{d^{2}}{d t^{2}} \\operatorname{y_{1}}{\\left(t \\right)} - \\sin{\\left(\\psi{\\left(t \\right)} - \\theta{\\left(t \\right)} \\right)} \\frac{d}{d t} \\psi{\\left(t \\right)} \\frac{d^{3}}{d t^{3}} \\operatorname{x_{1}}{\\left(t \\right)} - \\frac{\\sin{\\left(\\psi{\\left(t \\right)} - \\theta{\\left(t \\right)} \\right)} \\frac{d^{2}}{d t^{2}} \\psi{\\left(t \\right)} \\frac{d^{2}}{d t^{2}} \\operatorname{x_{1}}{\\left(t \\right)}}{2} - \\frac{\\sin{\\left(\\psi{\\left(t \\right)} - \\theta{\\left(t \\right)} \\right)} \\left(\\frac{d}{d t} \\theta{\\left(t \\right)}\\right)^{2} \\frac{d^{2}}{d t^{2}} \\operatorname{y_{1}}{\\left(t \\right)}}{2} + \\sin{\\left(\\psi{\\left(t \\right)} - \\theta{\\left(t \\right)} \\right)} \\frac{d}{d t} \\theta{\\left(t \\right)} \\frac{d^{3}}{d t^{3}} \\operatorname{x_{1}}{\\left(t \\right)} + \\frac{\\sin{\\left(\\psi{\\left(t \\right)} - \\theta{\\left(t \\right)} \\right)} \\frac{d^{2}}{d t^{2}} \\theta{\\left(t \\right)} \\frac{d^{2}}{d t^{2}} \\operatorname{x_{1}}{\\left(t \\right)}}{2} - \\frac{\\sin{\\left(\\psi{\\left(t \\right)} + \\theta{\\left(t \\right)} \\right)} \\left(\\frac{d}{d t} \\psi{\\left(t \\right)}\\right)^{2} \\frac{d^{2}}{d t^{2}} \\operatorname{y_{1}}{\\left(t \\right)}}{2} - \\sin{\\left(\\psi{\\left(t \\right)} + \\theta{\\left(t \\right)} \\right)} \\frac{d}{d t} \\psi{\\left(t \\right)} \\frac{d}{d t} \\theta{\\left(t \\right)} \\frac{d^{2}}{d t^{2}} \\operatorname{y_{1}}{\\left(t \\right)} - \\sin{\\left(\\psi{\\left(t \\right)} + \\theta{\\left(t \\right)} \\right)} \\frac{d}{d t} \\psi{\\left(t \\right)} \\frac{d^{3}}{d t^{3}} \\operatorname{x_{1}}{\\left(t \\right)} - \\frac{\\sin{\\left(\\psi{\\left(t \\right)} + \\theta{\\left(t \\right)} \\right)} \\frac{d^{2}}{d t^{2}} \\psi{\\left(t \\right)} \\frac{d^{2}}{d t^{2}} \\operatorname{x_{1}}{\\left(t \\right)}}{2} - \\frac{\\sin{\\left(\\psi{\\left(t \\right)} + \\theta{\\left(t \\right)} \\right)} \\left(\\frac{d}{d t} \\theta{\\left(t \\right)}\\right)^{2} \\frac{d^{2}}{d t^{2}} \\operatorname{y_{1}}{\\left(t \\right)}}{2} - \\sin{\\left(\\psi{\\left(t \\right)} + \\theta{\\left(t \\right)} \\right)} \\frac{d}{d t} \\theta{\\left(t \\right)} \\frac{d^{3}}{d t^{3}} \\operatorname{x_{1}}{\\left(t \\right)} - \\frac{\\sin{\\left(\\psi{\\left(t \\right)} + \\theta{\\left(t \\right)} \\right)} \\frac{d^{2}}{d t^{2}} \\theta{\\left(t \\right)} \\frac{d^{2}}{d t^{2}} \\operatorname{x_{1}}{\\left(t \\right)}}{2} - \\frac{\\cos{\\left(\\psi{\\left(t \\right)} - \\theta{\\left(t \\right)} \\right)} \\left(\\frac{d}{d t} \\psi{\\left(t \\right)}\\right)^{2} \\frac{d^{2}}{d t^{2}} \\operatorname{x_{1}}{\\left(t \\right)}}{2} + \\cos{\\left(\\psi{\\left(t \\right)} - \\theta{\\left(t \\right)} \\right)} \\frac{d}{d t} \\psi{\\left(t \\right)} \\frac{d}{d t} \\theta{\\left(t \\right)} \\frac{d^{2}}{d t^{2}} \\operatorname{x_{1}}{\\left(t \\right)} + \\cos{\\left(\\psi{\\left(t \\right)} - \\theta{\\left(t \\right)} \\right)} \\frac{d}{d t} \\psi{\\left(t \\right)} \\frac{d^{3}}{d t^{3}} \\operatorname{y_{1}}{\\left(t \\right)} + \\frac{\\cos{\\left(\\psi{\\left(t \\right)} - \\theta{\\left(t \\right)} \\right)} \\frac{d^{2}}{d t^{2}} \\psi{\\left(t \\right)} \\frac{d^{2}}{d t^{2}} \\operatorname{y_{1}}{\\left(t \\right)}}{2} - \\frac{\\cos{\\left(\\psi{\\left(t \\right)} - \\theta{\\left(t \\right)} \\right)} \\left(\\frac{d}{d t} \\theta{\\left(t \\right)}\\right)^{2} \\frac{d^{2}}{d t^{2}} \\operatorname{x_{1}}{\\left(t \\right)}}{2} - \\cos{\\left(\\psi{\\left(t \\right)} - \\theta{\\left(t \\right)} \\right)} \\frac{d}{d t} \\theta{\\left(t \\right)} \\frac{d^{3}}{d t^{3}} \\operatorname{y_{1}}{\\left(t \\right)} - \\frac{\\cos{\\left(\\psi{\\left(t \\right)} - \\theta{\\left(t \\right)} \\right)} \\frac{d^{2}}{d t^{2}} \\theta{\\left(t \\right)} \\frac{d^{2}}{d t^{2}} \\operatorname{y_{1}}{\\left(t \\right)}}{2} - \\frac{\\cos{\\left(\\psi{\\left(t \\right)} + \\theta{\\left(t \\right)} \\right)} \\left(\\frac{d}{d t} \\psi{\\left(t \\right)}\\right)^{2} \\frac{d^{2}}{d t^{2}} \\operatorname{x_{1}}{\\left(t \\right)}}{2} - \\cos{\\left(\\psi{\\left(t \\right)} + \\theta{\\left(t \\right)} \\right)} \\frac{d}{d t} \\psi{\\left(t \\right)} \\frac{d}{d t} \\theta{\\left(t \\right)} \\frac{d^{2}}{d t^{2}} \\operatorname{x_{1}}{\\left(t \\right)} + \\cos{\\left(\\psi{\\left(t \\right)} + \\theta{\\left(t \\right)} \\right)} \\frac{d}{d t} \\psi{\\left(t \\right)} \\frac{d^{3}}{d t^{3}} \\operatorname{y_{1}}{\\left(t \\right)} + \\frac{\\cos{\\left(\\psi{\\left(t \\right)} + \\theta{\\left(t \\right)} \\right)} \\frac{d^{2}}{d t^{2}} \\psi{\\left(t \\right)} \\frac{d^{2}}{d t^{2}} \\operatorname{y_{1}}{\\left(t \\right)}}{2} - \\frac{\\cos{\\left(\\psi{\\left(t \\right)} + \\theta{\\left(t \\right)} \\right)} \\left(\\frac{d}{d t} \\theta{\\left(t \\right)}\\right)^{2} \\frac{d^{2}}{d t^{2}} \\operatorname{x_{1}}{\\left(t \\right)}}{2} + \\cos{\\left(\\psi{\\left(t \\right)} + \\theta{\\left(t \\right)} \\right)} \\frac{d}{d t} \\theta{\\left(t \\right)} \\frac{d^{3}}{d t^{3}} \\operatorname{y_{1}}{\\left(t \\right)} + \\frac{\\cos{\\left(\\psi{\\left(t \\right)} + \\theta{\\left(t \\right)} \\right)} \\frac{d^{2}}{d t^{2}} \\theta{\\left(t \\right)} \\frac{d^{2}}{d t^{2}} \\operatorname{y_{1}}{\\left(t \\right)}}{2}\\right)\\\\m r \\left(- \\frac{r \\sin{\\left(2 \\psi{\\left(t \\right)} \\right)} \\left(\\frac{d}{d t} \\psi{\\left(t \\right)}\\right)^{2}}{2} + 2 r \\sin{\\left(2 \\theta{\\left(t \\right)} \\right)} \\left(\\frac{d}{d t} \\psi{\\left(t \\right)}\\right)^{3} \\frac{d}{d t} \\theta{\\left(t \\right)} - 2 r \\sin{\\left(2 \\theta{\\left(t \\right)} \\right)} \\frac{d}{d t} \\psi{\\left(t \\right)} \\left(\\frac{d}{d t} \\theta{\\left(t \\right)}\\right)^{3} - r \\sin{\\left(2 \\theta{\\left(t \\right)} \\right)} \\frac{d}{d t} \\psi{\\left(t \\right)} \\frac{d^{3}}{d t^{3}} \\theta{\\left(t \\right)} + r \\sin{\\left(2 \\theta{\\left(t \\right)} \\right)} \\frac{d^{3}}{d t^{3}} \\psi{\\left(t \\right)} \\frac{d}{d t} \\theta{\\left(t \\right)} + \\frac{r \\cos{\\left(2 \\psi{\\left(t \\right)} \\right)} \\frac{d^{2}}{d t^{2}} \\psi{\\left(t \\right)}}{2} - 3 r \\cos{\\left(2 \\theta{\\left(t \\right)} \\right)} \\left(\\frac{d}{d t} \\psi{\\left(t \\right)}\\right)^{2} \\frac{d^{2}}{d t^{2}} \\psi{\\left(t \\right)} + 3 r \\cos{\\left(2 \\theta{\\left(t \\right)} \\right)} \\frac{d^{2}}{d t^{2}} \\psi{\\left(t \\right)} \\left(\\frac{d}{d t} \\theta{\\left(t \\right)}\\right)^{2} + 3 r \\left(\\frac{d}{d t} \\psi{\\left(t \\right)}\\right)^{2} \\frac{d^{2}}{d t^{2}} \\psi{\\left(t \\right)} + 6 r \\frac{d}{d t} \\psi{\\left(t \\right)} \\frac{d}{d t} \\theta{\\left(t \\right)} \\frac{d^{2}}{d t^{2}} \\theta{\\left(t \\right)} + 3 r \\frac{d^{2}}{d t^{2}} \\psi{\\left(t \\right)} \\left(\\frac{d}{d t} \\theta{\\left(t \\right)}\\right)^{2} + \\frac{r \\frac{d^{2}}{d t^{2}} \\psi{\\left(t \\right)}}{2} + \\frac{\\sin{\\left(\\psi{\\left(t \\right)} - \\theta{\\left(t \\right)} \\right)} \\left(\\frac{d}{d t} \\psi{\\left(t \\right)}\\right)^{2} \\frac{d^{2}}{d t^{2}} \\operatorname{y_{1}}{\\left(t \\right)}}{2} - \\sin{\\left(\\psi{\\left(t \\right)} - \\theta{\\left(t \\right)} \\right)} \\frac{d}{d t} \\psi{\\left(t \\right)} \\frac{d}{d t} \\theta{\\left(t \\right)} \\frac{d^{2}}{d t^{2}} \\operatorname{y_{1}}{\\left(t \\right)} + \\sin{\\left(\\psi{\\left(t \\right)} - \\theta{\\left(t \\right)} \\right)} \\frac{d}{d t} \\psi{\\left(t \\right)} \\frac{d^{3}}{d t^{3}} \\operatorname{x_{1}}{\\left(t \\right)} + \\frac{\\sin{\\left(\\psi{\\left(t \\right)} - \\theta{\\left(t \\right)} \\right)} \\frac{d^{2}}{d t^{2}} \\psi{\\left(t \\right)} \\frac{d^{2}}{d t^{2}} \\operatorname{x_{1}}{\\left(t \\right)}}{2} + \\frac{\\sin{\\left(\\psi{\\left(t \\right)} - \\theta{\\left(t \\right)} \\right)} \\left(\\frac{d}{d t} \\theta{\\left(t \\right)}\\right)^{2} \\frac{d^{2}}{d t^{2}} \\operatorname{y_{1}}{\\left(t \\right)}}{2} - \\sin{\\left(\\psi{\\left(t \\right)} - \\theta{\\left(t \\right)} \\right)} \\frac{d}{d t} \\theta{\\left(t \\right)} \\frac{d^{3}}{d t^{3}} \\operatorname{x_{1}}{\\left(t \\right)} - \\frac{\\sin{\\left(\\psi{\\left(t \\right)} - \\theta{\\left(t \\right)} \\right)} \\frac{d^{2}}{d t^{2}} \\theta{\\left(t \\right)} \\frac{d^{2}}{d t^{2}} \\operatorname{x_{1}}{\\left(t \\right)}}{2} - \\frac{\\sin{\\left(\\psi{\\left(t \\right)} + \\theta{\\left(t \\right)} \\right)} \\left(\\frac{d}{d t} \\psi{\\left(t \\right)}\\right)^{2} \\frac{d^{2}}{d t^{2}} \\operatorname{y_{1}}{\\left(t \\right)}}{2} - \\sin{\\left(\\psi{\\left(t \\right)} + \\theta{\\left(t \\right)} \\right)} \\frac{d}{d t} \\psi{\\left(t \\right)} \\frac{d}{d t} \\theta{\\left(t \\right)} \\frac{d^{2}}{d t^{2}} \\operatorname{y_{1}}{\\left(t \\right)} - \\sin{\\left(\\psi{\\left(t \\right)} + \\theta{\\left(t \\right)} \\right)} \\frac{d}{d t} \\psi{\\left(t \\right)} \\frac{d^{3}}{d t^{3}} \\operatorname{x_{1}}{\\left(t \\right)} - \\frac{\\sin{\\left(\\psi{\\left(t \\right)} + \\theta{\\left(t \\right)} \\right)} \\frac{d^{2}}{d t^{2}} \\psi{\\left(t \\right)} \\frac{d^{2}}{d t^{2}} \\operatorname{x_{1}}{\\left(t \\right)}}{2} - \\frac{\\sin{\\left(\\psi{\\left(t \\right)} + \\theta{\\left(t \\right)} \\right)} \\left(\\frac{d}{d t} \\theta{\\left(t \\right)}\\right)^{2} \\frac{d^{2}}{d t^{2}} \\operatorname{y_{1}}{\\left(t \\right)}}{2} - \\sin{\\left(\\psi{\\left(t \\right)} + \\theta{\\left(t \\right)} \\right)} \\frac{d}{d t} \\theta{\\left(t \\right)} \\frac{d^{3}}{d t^{3}} \\operatorname{x_{1}}{\\left(t \\right)} - \\frac{\\sin{\\left(\\psi{\\left(t \\right)} + \\theta{\\left(t \\right)} \\right)} \\frac{d^{2}}{d t^{2}} \\theta{\\left(t \\right)} \\frac{d^{2}}{d t^{2}} \\operatorname{x_{1}}{\\left(t \\right)}}{2} + \\frac{\\cos{\\left(\\psi{\\left(t \\right)} - \\theta{\\left(t \\right)} \\right)} \\left(\\frac{d}{d t} \\psi{\\left(t \\right)}\\right)^{2} \\frac{d^{2}}{d t^{2}} \\operatorname{x_{1}}{\\left(t \\right)}}{2} - \\cos{\\left(\\psi{\\left(t \\right)} - \\theta{\\left(t \\right)} \\right)} \\frac{d}{d t} \\psi{\\left(t \\right)} \\frac{d}{d t} \\theta{\\left(t \\right)} \\frac{d^{2}}{d t^{2}} \\operatorname{x_{1}}{\\left(t \\right)} - \\cos{\\left(\\psi{\\left(t \\right)} - \\theta{\\left(t \\right)} \\right)} \\frac{d}{d t} \\psi{\\left(t \\right)} \\frac{d^{3}}{d t^{3}} \\operatorname{y_{1}}{\\left(t \\right)} - \\frac{\\cos{\\left(\\psi{\\left(t \\right)} - \\theta{\\left(t \\right)} \\right)} \\frac{d^{2}}{d t^{2}} \\psi{\\left(t \\right)} \\frac{d^{2}}{d t^{2}} \\operatorname{y_{1}}{\\left(t \\right)}}{2} + \\frac{\\cos{\\left(\\psi{\\left(t \\right)} - \\theta{\\left(t \\right)} \\right)} \\left(\\frac{d}{d t} \\theta{\\left(t \\right)}\\right)^{2} \\frac{d^{2}}{d t^{2}} \\operatorname{x_{1}}{\\left(t \\right)}}{2} + \\cos{\\left(\\psi{\\left(t \\right)} - \\theta{\\left(t \\right)} \\right)} \\frac{d}{d t} \\theta{\\left(t \\right)} \\frac{d^{3}}{d t^{3}} \\operatorname{y_{1}}{\\left(t \\right)} + \\frac{\\cos{\\left(\\psi{\\left(t \\right)} - \\theta{\\left(t \\right)} \\right)} \\frac{d^{2}}{d t^{2}} \\theta{\\left(t \\right)} \\frac{d^{2}}{d t^{2}} \\operatorname{y_{1}}{\\left(t \\right)}}{2} - \\frac{\\cos{\\left(\\psi{\\left(t \\right)} + \\theta{\\left(t \\right)} \\right)} \\left(\\frac{d}{d t} \\psi{\\left(t \\right)}\\right)^{2} \\frac{d^{2}}{d t^{2}} \\operatorname{x_{1}}{\\left(t \\right)}}{2} - \\cos{\\left(\\psi{\\left(t \\right)} + \\theta{\\left(t \\right)} \\right)} \\frac{d}{d t} \\psi{\\left(t \\right)} \\frac{d}{d t} \\theta{\\left(t \\right)} \\frac{d^{2}}{d t^{2}} \\operatorname{x_{1}}{\\left(t \\right)} + \\cos{\\left(\\psi{\\left(t \\right)} + \\theta{\\left(t \\right)} \\right)} \\frac{d}{d t} \\psi{\\left(t \\right)} \\frac{d^{3}}{d t^{3}} \\operatorname{y_{1}}{\\left(t \\right)} + \\frac{\\cos{\\left(\\psi{\\left(t \\right)} + \\theta{\\left(t \\right)} \\right)} \\frac{d^{2}}{d t^{2}} \\psi{\\left(t \\right)} \\frac{d^{2}}{d t^{2}} \\operatorname{y_{1}}{\\left(t \\right)}}{2} - \\frac{\\cos{\\left(\\psi{\\left(t \\right)} + \\theta{\\left(t \\right)} \\right)} \\left(\\frac{d}{d t} \\theta{\\left(t \\right)}\\right)^{2} \\frac{d^{2}}{d t^{2}} \\operatorname{x_{1}}{\\left(t \\right)}}{2} + \\cos{\\left(\\psi{\\left(t \\right)} + \\theta{\\left(t \\right)} \\right)} \\frac{d}{d t} \\theta{\\left(t \\right)} \\frac{d^{3}}{d t^{3}} \\operatorname{y_{1}}{\\left(t \\right)} + \\frac{\\cos{\\left(\\psi{\\left(t \\right)} + \\theta{\\left(t \\right)} \\right)} \\frac{d^{2}}{d t^{2}} \\theta{\\left(t \\right)} \\frac{d^{2}}{d t^{2}} \\operatorname{y_{1}}{\\left(t \\right)}}{2} + \\cos{\\left(\\psi{\\left(t \\right)} \\right)} \\frac{d^{2}}{d t^{2}} \\operatorname{z_{1}}{\\left(t \\right)}\\right)\\\\M \\frac{d^{2}}{d t^{2}} \\operatorname{x_{1}}{\\left(t \\right)}\\\\M \\frac{d^{2}}{d t^{2}} \\operatorname{y_{1}}{\\left(t \\right)}\\\\M g + M \\frac{d^{2}}{d t^{2}} \\operatorname{z_{1}}{\\left(t \\right)} + g m + m \\left(- r \\sin{\\left(\\psi{\\left(t \\right)} \\right)} \\left(\\frac{d}{d t} \\psi{\\left(t \\right)}\\right)^{2} + r \\cos{\\left(\\psi{\\left(t \\right)} \\right)} \\frac{d^{2}}{d t^{2}} \\psi{\\left(t \\right)} + \\frac{d^{2}}{d t^{2}} \\operatorname{z_{1}}{\\left(t \\right)}\\right)\\end{array} \\right]$\n"
      ],
      "text/plain": [
       "5-element Vector{Sym}:\n",
       " m*r*(-g*sin(theta(t)) - r*sin(2*theta(t))*Derivative(psi(t), t)^4/2 - r*sin(2*theta(t))*Derivative(psi(t), t)^2*Derivative(theta(t), t)^2 + r*sin(2*theta(t))*Derivative(psi(t), t)*Derivative(psi(t), (t, 3)) + r*sin(2*theta(t))*Derivative(psi(t), (t, 2))^2/2 + 3*r*sin(2*theta(t))*Derivative(theta(t), t)^4/2 - r*sin(2*theta(t))*Derivative(theta(t), t)*Derivative(theta(t), (t, 3)) - r*sin(2*theta(t))*Derivative(theta(t), (t, 2))^2/2 + 2*r*cos(2*theta(t))*Derivative(psi(t), t)^2*Derivative(theta(t), (t, 2)) + 2*r*cos(2*theta(t))*Derivative(psi(t), t)*Derivative(psi(t), (t, 2))*Derivative(theta(t), t) - 4*r*cos(2*theta(t))*Derivative(theta(t), t)^2*Derivative(theta(t), (t, 2)) + 3*r*Derivative(psi(t), t)^2*Derivative(theta(t), (t, 2)) + 6*r*Derivative(psi(t), t)*Derivative(psi(t), (t, 2))*Derivative(theta(t), t) + 3*r*Derivative(theta(t), t)^2*Derivative(theta(t), (t, 2)) - sin(psi(t) - theta(t))*Derivative(psi(t), t)^2*Derivative(y1(t), (t, 2))/2 + sin(psi(t) - theta(t))*Derivative(psi(t), t)*Derivative(theta(t), t)*Derivative(y1(t), (t, 2)) - sin(psi(t) - theta(t))*Derivative(psi(t), t)*Derivative(x1(t), (t, 3)) - sin(psi(t) - theta(t))*Derivative(psi(t), (t, 2))*Derivative(x1(t), (t, 2))/2 - sin(psi(t) - theta(t))*Derivative(theta(t), t)^2*Derivative(y1(t), (t, 2))/2 + sin(psi(t) - theta(t))*Derivative(theta(t), t)*Derivative(x1(t), (t, 3)) + sin(psi(t) - theta(t))*Derivative(theta(t), (t, 2))*Derivative(x1(t), (t, 2))/2 - sin(psi(t) + theta(t))*Derivative(psi(t), t)^2*Derivative(y1(t), (t, 2))/2 - sin(psi(t) + theta(t))*Derivative(psi(t), t)*Derivative(theta(t), t)*Derivative(y1(t), (t, 2)) - sin(psi(t) + theta(t))*Derivative(psi(t), t)*Derivative(x1(t), (t, 3)) - sin(psi(t) + theta(t))*Derivative(psi(t), (t, 2))*Derivative(x1(t), (t, 2))/2 - sin(psi(t) + theta(t))*Derivative(theta(t), t)^2*Derivative(y1(t), (t, 2))/2 - sin(psi(t) + theta(t))*Derivative(theta(t), t)*Derivative(x1(t), (t, 3)) - sin(psi(t) + theta(t))*Derivative(theta(t), (t, 2))*Derivative(x1(t), (t, 2))/2 - cos(psi(t) - theta(t))*Derivative(psi(t), t)^2*Derivative(x1(t), (t, 2))/2 + cos(psi(t) - theta(t))*Derivative(psi(t), t)*Derivative(theta(t), t)*Derivative(x1(t), (t, 2)) + cos(psi(t) - theta(t))*Derivative(psi(t), t)*Derivative(y1(t), (t, 3)) + cos(psi(t) - theta(t))*Derivative(psi(t), (t, 2))*Derivative(y1(t), (t, 2))/2 - cos(psi(t) - theta(t))*Derivative(theta(t), t)^2*Derivative(x1(t), (t, 2))/2 - cos(psi(t) - theta(t))*Derivative(theta(t), t)*Derivative(y1(t), (t, 3)) - cos(psi(t) - theta(t))*Derivative(theta(t), (t, 2))*Derivative(y1(t), (t, 2))/2 - cos(psi(t) + theta(t))*Derivative(psi(t), t)^2*Derivative(x1(t), (t, 2))/2 - cos(psi(t) + theta(t))*Derivative(psi(t), t)*Derivative(theta(t), t)*Derivative(x1(t), (t, 2)) + cos(psi(t) + theta(t))*Derivative(psi(t), t)*Derivative(y1(t), (t, 3)) + cos(psi(t) + theta(t))*Derivative(psi(t), (t, 2))*Derivative(y1(t), (t, 2))/2 - cos(psi(t) + theta(t))*Derivative(theta(t), t)^2*Derivative(x1(t), (t, 2))/2 + cos(psi(t) + theta(t))*Derivative(theta(t), t)*Derivative(y1(t), (t, 3)) + cos(psi(t) + theta(t))*Derivative(theta(t), (t, 2))*Derivative(y1(t), (t, 2))/2)\n",
       "                                                                                      m*r*(-r*sin(2*psi(t))*Derivative(psi(t), t)^2/2 + 2*r*sin(2*theta(t))*Derivative(psi(t), t)^3*Derivative(theta(t), t) - 2*r*sin(2*theta(t))*Derivative(psi(t), t)*Derivative(theta(t), t)^3 - r*sin(2*theta(t))*Derivative(psi(t), t)*Derivative(theta(t), (t, 3)) + r*sin(2*theta(t))*Derivative(psi(t), (t, 3))*Derivative(theta(t), t) + r*cos(2*psi(t))*Derivative(psi(t), (t, 2))/2 - 3*r*cos(2*theta(t))*Derivative(psi(t), t)^2*Derivative(psi(t), (t, 2)) + 3*r*cos(2*theta(t))*Derivative(psi(t), (t, 2))*Derivative(theta(t), t)^2 + 3*r*Derivative(psi(t), t)^2*Derivative(psi(t), (t, 2)) + 6*r*Derivative(psi(t), t)*Derivative(theta(t), t)*Derivative(theta(t), (t, 2)) + 3*r*Derivative(psi(t), (t, 2))*Derivative(theta(t), t)^2 + r*Derivative(psi(t), (t, 2))/2 + sin(psi(t) - theta(t))*Derivative(psi(t), t)^2*Derivative(y1(t), (t, 2))/2 - sin(psi(t) - theta(t))*Derivative(psi(t), t)*Derivative(theta(t), t)*Derivative(y1(t), (t, 2)) + sin(psi(t) - theta(t))*Derivative(psi(t), t)*Derivative(x1(t), (t, 3)) + sin(psi(t) - theta(t))*Derivative(psi(t), (t, 2))*Derivative(x1(t), (t, 2))/2 + sin(psi(t) - theta(t))*Derivative(theta(t), t)^2*Derivative(y1(t), (t, 2))/2 - sin(psi(t) - theta(t))*Derivative(theta(t), t)*Derivative(x1(t), (t, 3)) - sin(psi(t) - theta(t))*Derivative(theta(t), (t, 2))*Derivative(x1(t), (t, 2))/2 - sin(psi(t) + theta(t))*Derivative(psi(t), t)^2*Derivative(y1(t), (t, 2))/2 - sin(psi(t) + theta(t))*Derivative(psi(t), t)*Derivative(theta(t), t)*Derivative(y1(t), (t, 2)) - sin(psi(t) + theta(t))*Derivative(psi(t), t)*Derivative(x1(t), (t, 3)) - sin(psi(t) + theta(t))*Derivative(psi(t), (t, 2))*Derivative(x1(t), (t, 2))/2 - sin(psi(t) + theta(t))*Derivative(theta(t), t)^2*Derivative(y1(t), (t, 2))/2 - sin(psi(t) + theta(t))*Derivative(theta(t), t)*Derivative(x1(t), (t, 3)) - sin(psi(t) + theta(t))*Derivative(theta(t), (t, 2))*Derivative(x1(t), (t, 2))/2 + cos(psi(t) - theta(t))*Derivative(psi(t), t)^2*Derivative(x1(t), (t, 2))/2 - cos(psi(t) - theta(t))*Derivative(psi(t), t)*Derivative(theta(t), t)*Derivative(x1(t), (t, 2)) - cos(psi(t) - theta(t))*Derivative(psi(t), t)*Derivative(y1(t), (t, 3)) - cos(psi(t) - theta(t))*Derivative(psi(t), (t, 2))*Derivative(y1(t), (t, 2))/2 + cos(psi(t) - theta(t))*Derivative(theta(t), t)^2*Derivative(x1(t), (t, 2))/2 + cos(psi(t) - theta(t))*Derivative(theta(t), t)*Derivative(y1(t), (t, 3)) + cos(psi(t) - theta(t))*Derivative(theta(t), (t, 2))*Derivative(y1(t), (t, 2))/2 - cos(psi(t) + theta(t))*Derivative(psi(t), t)^2*Derivative(x1(t), (t, 2))/2 - cos(psi(t) + theta(t))*Derivative(psi(t), t)*Derivative(theta(t), t)*Derivative(x1(t), (t, 2)) + cos(psi(t) + theta(t))*Derivative(psi(t), t)*Derivative(y1(t), (t, 3)) + cos(psi(t) + theta(t))*Derivative(psi(t), (t, 2))*Derivative(y1(t), (t, 2))/2 - cos(psi(t) + theta(t))*Derivative(theta(t), t)^2*Derivative(x1(t), (t, 2))/2 + cos(psi(t) + theta(t))*Derivative(theta(t), t)*Derivative(y1(t), (t, 3)) + cos(psi(t) + theta(t))*Derivative(theta(t), (t, 2))*Derivative(y1(t), (t, 2))/2 + cos(psi(t))*Derivative(z1(t), (t, 2)))\n",
       "                                                                                                                                                                                                                                                                                                                                                                                                                                                                                                                                                                                                                                                                                                                                                                                                                                                                                                                                                                                                                                                                                                                                                                                                                                                                                                                                                                                                                                                                                                                                                                                                                                                                                                                                                                                                                                                                                                                                                                                                                                                                                                                                                                                                                                                                                                                                                                                                                                                                                                                                                                                                                                                                                                                                                                                                                                                                                                                                                                                                                                                                                                                                                                                                                                  M*Derivative(x1(t), (t, 2))\n",
       "                                                                                                                                                                                                                                                                                                                                                                                                                                                                                                                                                                                                                                                                                                                                                                                                                                                                                                                                                                                                                                                                                                                                                                                                                                                                                                                                                                                                                                                                                                                                                                                                                                                                                                                                                                                                                                                                                                                                                                                                                                                                                                                                                                                                                                                                                                                                                                                                                                                                                                                                                                                                                                                                                                                                                                                                                                                                                                                                                                                                                                                                                                                                                                                                                                  M*Derivative(y1(t), (t, 2))\n",
       "                                                                                                                                                                                                                                                                                                                                                                                                                                                                                                                                                                                                                                                                                                                                                                                                                                                                                                                                                                                                                                                                                                                                                                                                                                                                                                                                                                                                                                                                                                                                                                                                                                                                                                                                                                                                                                                                                                                                                                                                                                                                                                                                                                                                                                                                                                                                                                                                                                                                                                                                                                                                                                                                                                                                                                                                                                                                                                                                                                                                                                                                                                  M*g + M*Derivative(z1(t), (t, 2)) + g*m + m*(-r*sin(psi(t))*Derivative(psi(t), t)^2 + r*cos(psi(t))*Derivative(psi(t), (t, 2)) + Derivative(z1(t), (t, 2)))"
      ]
     },
     "metadata": {},
     "output_type": "display_data"
    }
   ],
   "source": [
    "[Qi_theta\n",
    "Qi_psi\n",
    "Qi_x1\n",
    "Qi_y1\n",
    "Qi_z1]"
   ]
  },
  {
   "cell_type": "code",
   "execution_count": 13,
   "metadata": {},
   "outputs": [
    {
     "name": "stdout",
     "output_type": "stream",
     "text": [
      "here goes...made it"
     ]
    }
   ],
   "source": [
    "print(\"here goes...\")\n",
    "# theta_accel = solve(Eq(Qi_theta, 0), theta.diff(t, t))\n",
    "print(\"made it\")\n",
    "# psi_accel = solve(Eq(Qi_psi, 0), psi.diff(t, t))\n",
    "# x1_accel = solve(Eq(Qi_x1, 0), x1.diff(t, t))\n",
    "# y1_accel = solve(Eq(Qi_y1, 0), y1.diff(t, t))\n",
    "# z1_accel = solve(Eq(Qi_z1, 0), z1.diff(t, t))\n",
    "\n",
    "# theta_vel = solve(Eq(Qi_theta, 0), theta.diff(t))\n",
    "# psi_vel = solve(Eq(Qi_psi, 0), psi.diff(t))\n",
    "# x1_vel = solve(Eq(Qi_x1, 0), x1.diff(t))\n",
    "# y1_vel = solve(Eq(Qi_y1, 0), y1.diff(t))\n",
    "# z1_vel = solve(Eq(Qi_z1, 0), z1.diff(t))\n",
    "\n",
    "#= \n",
    "  considering my state vector, I want:\n",
    "  q1  :=  θ\n",
    "  q2  :=  dθ/dt\n",
    "  q3  :=  ψ\n",
    "  q4  :=  dψ/dt\n",
    "  q5  :=  x1\n",
    "  q6  :=  dx1/dt\n",
    "  q7  :=  y1\n",
    "  q8  :=  dy1/dt\n",
    "  q9  :=  z1\n",
    "  q10 :=  dz1/dt\n",
    "\n",
    "  so then, if i want to compute dq/dt:\n",
    "\n",
    "  dq1/dt  :=  q2\n",
    "  dq2/dt  :=  theta_accel\n",
    "  dq3/dt  :=  q4\n",
    "  dq4/dt  :=  psi_accel\n",
    "  dq5/dt  :=  q6\n",
    "  dq6/dt  :=  x1_accel\n",
    "  dq7/dt  :=  q8\n",
    "  dq8/dt  :=  y1_accel\n",
    "  dq9/dt  :=  q10\n",
    "  dq10/dt :=  z1_accel\n",
    "\n",
    "  ^ I want to take the jacobian of this state vector... at the fixed point?\n",
    "\n",
    "  Fixed points:\n",
    "=#\n",
    "\n",
    "# TODO:\n",
    "\n",
    "# get fixed points\n",
    "#=\n",
    "q1  :=  free\n",
    "q2  :=  0\n",
    "q3  :=  π  <- pendulum fully inverted\n",
    "q4  :=  0\n",
    "q5  :=  free\n",
    "q6  :=  0\n",
    "q7  :=  free\n",
    "q8  :=  0\n",
    "q9  :=  free ? or 0\n",
    "q10 :=  free\n",
    "=#\n",
    "\n",
    "\n",
    "# compute jacobian\n",
    "\n",
    "# jacobi = [\n",
    "# ]\n",
    "\n",
    "# get 10D linear map\n",
    "# find optimal eigenstate reshape using LQR"
   ]
  }
 ],
 "metadata": {
  "kernelspec": {
   "display_name": "Julia 1.7.3",
   "language": "julia",
   "name": "julia-1.7"
  },
  "language_info": {
   "file_extension": ".jl",
   "mimetype": "application/julia",
   "name": "julia",
   "version": "1.7.3"
  },
  "orig_nbformat": 4,
  "vscode": {
   "interpreter": {
    "hash": "7d6993cb2f9ce9a59d5d7380609d9cb5192a9dedd2735a011418ad9e827eb538"
   }
  }
 },
 "nbformat": 4,
 "nbformat_minor": 2
}
